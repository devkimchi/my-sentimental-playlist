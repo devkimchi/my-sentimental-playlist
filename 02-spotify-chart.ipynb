{
 "cells": [
  {
   "cell_type": "code",
   "execution_count": 1,
   "metadata": {
    "dotnet_interactive": {
     "language": "csharp"
    },
    "polyglot_notebook": {
     "kernelName": "csharp"
    },
    "vscode": {
     "languageId": "polyglot-notebook"
    }
   },
   "outputs": [
    {
     "data": {
      "text/html": [
       "<div><div></div><div></div><div><strong>Installed Packages</strong><ul><li><span>MelonChart.NET, 2.0.0</span></li><li><span>Microsoft.Extensions.Configuration.Json, 8.0.0</span></li><li><span>Microsoft.SemanticKernel, 1.16.0</span></li><li><span>Microsoft.SemanticKernel.Connectors.OpenAI, 1.16.0</span></li><li><span>Microsoft.SemanticKernel.Core, 1.16.0</span></li><li><span>Microsoft.SemanticKernel.Plugins.Core, 1.16.0-alpha</span></li><li><span>Microsoft.SemanticKernel.Plugins.Memory, 1.16.0-alpha</span></li><li><span>System.Linq.Async, 6.0.1</span></li></ul></div></div>"
      ]
     },
     "metadata": {},
     "output_type": "display_data"
    }
   ],
   "source": [
    "// Nuget Packages\n",
    "#r \"nuget: MelonChart.NET, 2.*\"\n",
    "\n",
    "#r \"nuget: Microsoft.Extensions.Configuration.Json, 8.*\"\n",
    "#r \"nuget: Microsoft.SemanticKernel, 1.*\"\n",
    "#r \"nuget: Microsoft.SemanticKernel.Connectors.OpenAI, 1.*\"\n",
    "#r \"nuget: Microsoft.SemanticKernel.Core, 1.*\"\n",
    "#r \"nuget: Microsoft.SemanticKernel.Plugins.Core, 1.*-*\"\n",
    "#r \"nuget: Microsoft.SemanticKernel.Plugins.Memory, 1.*-*\"\n",
    "\n",
    "#r \"nuget: System.Linq.Async, 6.*\"\n"
   ]
  },
  {
   "cell_type": "code",
   "execution_count": 2,
   "metadata": {
    "dotnet_interactive": {
     "language": "csharp"
    },
    "polyglot_notebook": {
     "kernelName": "csharp"
    },
    "vscode": {
     "languageId": "polyglot-notebook"
    }
   },
   "outputs": [],
   "source": [
    "// Add using statements\n",
    "using System.ComponentModel;\n",
    "using System.IO;\n",
    "using System.Net.Http;\n",
    "using System.Text.Encodings.Web;\n",
    "using System.Text.Json;\n",
    "using System.Text.Json.Serialization;\n",
    "\n",
    "using MelonChart.Models;\n",
    "\n",
    "using Microsoft.Extensions.Configuration;\n",
    "using Microsoft.SemanticKernel;\n",
    "using Microsoft.SemanticKernel.Connectors.OpenAI;\n",
    "using Microsoft.SemanticKernel.Memory;\n",
    "\n",
    "using Kernel = Microsoft.SemanticKernel.Kernel;"
   ]
  },
  {
   "cell_type": "code",
   "execution_count": 3,
   "metadata": {
    "dotnet_interactive": {
     "language": "csharp"
    },
    "polyglot_notebook": {
     "kernelName": "csharp"
    },
    "vscode": {
     "languageId": "polyglot-notebook"
    }
   },
   "outputs": [],
   "source": [
    "// Azure OpenAI configurations\n",
    "var path = Path.Combine(Directory.GetCurrentDirectory(), \"appsettings.Development.json\");\n",
    "var config = new ConfigurationBuilder().AddJsonFile(path).Build();\n",
    "\n",
    "var endpoint = config[\"Azure:OpenAI:Endpoint\"];\n",
    "var apiKey = config[\"Azure:OpenAI:ApiKey\"];\n",
    "var deploymentName = config[\"Azure:OpenAI:DeploymentName\"];"
   ]
  },
  {
   "cell_type": "code",
   "execution_count": 4,
   "metadata": {
    "dotnet_interactive": {
     "language": "csharp"
    },
    "polyglot_notebook": {
     "kernelName": "csharp"
    },
    "vscode": {
     "languageId": "polyglot-notebook"
    }
   },
   "outputs": [],
   "source": [
    "// Build Semantic Kernel\n",
    "var kernel = Kernel.CreateBuilder()\n",
    "                   .AddAzureOpenAIChatCompletion(\n",
    "                       deploymentName: deploymentName,\n",
    "                       endpoint: endpoint,\n",
    "                       apiKey: apiKey)\n",
    "                   .Build();"
   ]
  },
  {
   "cell_type": "code",
   "execution_count": 5,
   "metadata": {
    "dotnet_interactive": {
     "language": "csharp"
    },
    "polyglot_notebook": {
     "kernelName": "csharp"
    },
    "vscode": {
     "languageId": "polyglot-notebook"
    }
   },
   "outputs": [],
   "source": [
    "// Import prompts\n",
    "var prompts = kernel.ImportPluginFromPromptDirectory(\"Prompts/Spotify\");"
   ]
  },
  {
   "cell_type": "code",
   "execution_count": 6,
   "metadata": {
    "dotnet_interactive": {
     "language": "csharp"
    },
    "polyglot_notebook": {
     "kernelName": "csharp"
    },
    "vscode": {
     "languageId": "polyglot-notebook"
    }
   },
   "outputs": [],
   "source": [
    "// Import codes\n",
    "#!import Plugins/ChartMemories/SpotifyChartPlugin.cs"
   ]
  },
  {
   "cell_type": "code",
   "execution_count": 7,
   "metadata": {
    "dotnet_interactive": {
     "language": "csharp"
    },
    "polyglot_notebook": {
     "kernelName": "csharp"
    },
    "vscode": {
     "languageId": "polyglot-notebook"
    }
   },
   "outputs": [],
   "source": [
    "// Import plugins\n",
    "kernel.ImportPluginFromType<SpotifyChartPlugin>();"
   ]
  },
  {
   "cell_type": "code",
   "execution_count": 8,
   "metadata": {
    "dotnet_interactive": {
     "language": "csharp"
    },
    "polyglot_notebook": {
     "kernelName": "csharp"
    },
    "vscode": {
     "languageId": "polyglot-notebook"
    }
   },
   "outputs": [],
   "source": [
    "// Build Semantic Memory\n",
    "#pragma warning disable SKEXP0001\n",
    "#pragma warning disable SKEXP0010\n",
    "#pragma warning disable SKEXP0050\n",
    "\n",
    "var memory = new MemoryBuilder()\n",
    "                 .WithAzureOpenAITextEmbeddingGeneration(\n",
    "                     deploymentName: \"model-textembeddingada002-2\",\n",
    "                     endpoint: endpoint,\n",
    "                     apiKey: apiKey)\n",
    "                 .WithMemoryStore(new VolatileMemoryStore())\n",
    "                 .Build();"
   ]
  },
  {
   "cell_type": "code",
   "execution_count": 9,
   "metadata": {
    "dotnet_interactive": {
     "language": "csharp"
    },
    "polyglot_notebook": {
     "kernelName": "csharp"
    },
    "vscode": {
     "languageId": "polyglot-notebook"
    }
   },
   "outputs": [],
   "source": [
    "// Add HttpClient instance.\n",
    "var http = new HttpClient();\n"
   ]
  },
  {
   "cell_type": "code",
   "execution_count": 10,
   "metadata": {
    "dotnet_interactive": {
     "language": "csharp"
    },
    "polyglot_notebook": {
     "kernelName": "csharp"
    },
    "vscode": {
     "languageId": "polyglot-notebook"
    }
   },
   "outputs": [],
   "source": [
    "// Add JsonSerializerOptions instance.\n",
    "var jso = new JsonSerializerOptions()\n",
    "{\n",
    "    WriteIndented = false,\n",
    "    PropertyNamingPolicy = JsonNamingPolicy.CamelCase,\n",
    "    Encoder = JavaScriptEncoder.UnsafeRelaxedJsonEscaping,\n",
    "    Converters = { new JsonStringEnumConverter(JsonNamingPolicy.CamelCase) },\n",
    "};"
   ]
  },
  {
   "cell_type": "code",
   "execution_count": 11,
   "metadata": {
    "dotnet_interactive": {
     "language": "csharp"
    },
    "polyglot_notebook": {
     "kernelName": "csharp"
    },
    "vscode": {
     "languageId": "polyglot-notebook"
    }
   },
   "outputs": [
    {
     "name": "stdout",
     "output_type": "stream",
     "text": [
      "- Stored: aespa - Supernova\n",
      "- Stored: Lee Young Ji, D.O. - Small girl (feat. D.O.)\n",
      "- Stored: NewJeans - How Sweet\n",
      "- Stored: ECLIPSE - Sudden Shower\n",
      "- Stored: NewJeans - Supernatural\n",
      "- Stored: NewJeans - Bubble Gum\n",
      "- Stored: KISS OF LIFE - Sticky\n",
      "- Stored: QWER - T.B.H\n",
      "- Stored: aespa - Armageddon\n",
      "- Stored: DAY6 - 한 페이지가 될 수 있게\n",
      "- Stored: ZICO, JENNIE - SPOT!\n",
      "- Stored: ILLIT - Magnetic\n",
      "- Stored: IVE - HEYA\n",
      "- Stored: (G)I-DLE - Fate\n",
      "- Stored: TWS - plot twist\n",
      "- Stored: DAY6 - 예뻤어\n",
      "- Stored: Emile PARK - (Klaxon)클락션\n",
      "- Stored: CAN - 천상연\n",
      "- Stored: DAY6 - Welcome to the Show\n",
      "- Stored: Lim Jae Beum - 이밤이지나면\n",
      "- Stored: Crush - Love You With All My Heart\n",
      "- Stored: RIIZE - Boom Boom Bass\n",
      "- Stored: IU - Love wins all\n",
      "- Stored: Lim Jae Hyun - Rhapsody of Sadness\n",
      "- Stored: NewJeans - Hype Boy\n",
      "- Stored: Na Yoon Kwon - 나였으면\n",
      "- Stored: Han Kyung Il - 슬픈 초대장\n",
      "- Stored: Standing Egg - Old Song\n",
      "- Stored: IVE - I AM\n",
      "- Stored: TWS - If I’m S, Can You Be My N?\n",
      "- Stored: BABYMONSTER - SHEESH\n",
      "- Stored: Parc Jae Jung - Let’s Say Goodbye\n",
      "- Stored: BIBI - Bam Yang Gang\n",
      "- Stored: NewJeans - ETA\n",
      "- Stored: Jung Kook, Latto - Seven (feat. Latto) (Clean Ver.)\n",
      "- Stored: NewJeans - Super Shy\n",
      "- Stored: TAEYEON - To. X\n",
      "- Stored: aespa - Drama\n",
      "- Stored: Lim Young Woong - Love Always Run Away\n",
      "- Stored: Sung Si Kyung - Every moment of you\n",
      "- Stored: NewJeans - Ditto\n",
      "- Stored: NewJeans - Attention\n",
      "- Stored: MeloMance - Love, Maybe\n",
      "- Stored: Lee Mujin - Propose\n",
      "- Stored: aespa - Spicy\n",
      "- Stored: BUMJIN - A Letter\n",
      "- Stored: JANNABI - for lovers who hesitate\n",
      "- Stored: Yoo Hwe Seung - I Think I Did\n",
      "- Stored: Recolor - 이 시간 너의 맘속에 In Your Heart at This Moment\n",
      "- Stored: Woody - Flower in the Desert - Kor Version\n",
      "- Stored: tripleS - Girls Never Die\n",
      "- Stored: RIIZE - Love 119\n",
      "- Stored: (G)I-DLE - Queencard\n",
      "- Stored: AKMU - How can I love the heartbreak, you're the one I love\n",
      "- Stored: Younha - Event Horizon\n",
      "- Stored: Music For U - 모든 날 모든 순간 EVERY DAY EVERY MOMENT - MR\n",
      "- Stored: KY Noraebang - 파이팅 해야지(Feat.이영지) (29119) MR\n",
      "- Stored: LE SSERAFIM - Perfect Night\n",
      "- Stored: KISS OF LIFE - Midas Touch\n",
      "- Stored: RIIZE - Get A Guitar\n",
      "- Stored: NewJeans - OMG\n",
      "- Stored: IVE - LOVE DIVE\n",
      "- Stored: Charlie Puth - I Don’t Think That I Like Her\n",
      "- Stored: Red Velvet - Cosmic\n",
      "- Stored: GyeongseoYeji, Jeon Gunho - If you lovingly call my name\n",
      "- Stored: AKMU - Love Lee\n",
      "- Stored: Parc Jae Jung - Let’s Say Goodbye\n",
      "- Stored: IVE - Accendio\n",
      "- Stored: VIVIZ - MANIAC\n",
      "- Stored: 10CM - Spring Snow\n",
      "- Stored: SEVENTEEN - MAESTRO\n",
      "- Stored: NewJeans - Right Now\n",
      "- Stored: TAEYEON - Dream\n",
      "- Stored: BTS - Dynamite\n",
      "- Stored: Lim Young Woong - Our Blues, Our Life\n",
      "- Stored: Lyn, Ha Dong Qn, J.Lee - I Will\n",
      "- Stored: ILLIT - Lucky Girl Syndrome\n",
      "- Stored: LE SSERAFIM - EASY\n",
      "- Stored: Lim Young Woong - Warmth\n",
      "- Stored: BTS - 봄날\n",
      "- Stored: Onestar - Because I Don't Love You\n",
      "- Stored: RIIZE - Impossible\n",
      "- Stored: ECLIPSE - Run Run\n",
      "- Stored: Lim Young Woong - Grain of Sand\n",
      "- Stored: PLAVE - WAY 4 LUV\n",
      "- Stored: RIIZE - Siren\n",
      "- Stored: JINWOL - 다시 만날 수 있을까\n",
      "- Stored: Peakboy - Walk\n",
      "- Stored: Lim Young Woong - Trust in me\n",
      "- Stored: Lim Young Woong - Home\n",
      "- Stored: Roy Kim - Let's Stay Well (My love X Roy Kim)\n",
      "- Stored: Lim Young Woong - Rainbow\n",
      "- Stored: Lim Young Woong - Do or Die\n",
      "- Stored: LE SSERAFIM - Smart\n",
      "- Stored: SEVENTEEN - Super\n",
      "- Stored: Shin Yong Jae - 해줄 수 없는 일 (뜨거운 심장 양철로봇)\n",
      "- Stored: KY Noraebang - 그대가 내 안에 박혔다(그내박) (24731) MR\n",
      "- Stored: Lim Young Woong - London Boy\n",
      "- Stored: Lim Young Woong - Polaroid\n",
      "- Stored: PLAVE - Our Movie\n"
     ]
    }
   ],
   "source": [
    "// Invoke the plugin - Add Spotify Chart data\n",
    "await kernel.InvokeAsync(\n",
    "    pluginName: nameof(SpotifyChartPlugin),\n",
    "    functionName: nameof(SpotifyChartPlugin.AddChart), \n",
    "    arguments: new KernelArguments()\n",
    "    {\n",
    "        { \"memory\", memory }, \n",
    "        { \"http\", http },\n",
    "        { \"jso\", jso }, \n",
    "    }\n",
    ");"
   ]
  },
  {
   "cell_type": "code",
   "execution_count": 14,
   "metadata": {
    "dotnet_interactive": {
     "language": "csharp"
    },
    "polyglot_notebook": {
     "kernelName": "csharp"
    },
    "vscode": {
     "languageId": "polyglot-notebook"
    }
   },
   "outputs": [
    {
     "name": "stdout",
     "output_type": "stream",
     "text": [
      "User: 나 너무 우울해서 빵 샀어\r\n"
     ]
    }
   ],
   "source": [
    "// User input\n",
    "var question = await Microsoft.DotNet.Interactive.Kernel.GetInputAsync(\"지금 무슨 생각을 하고 계세요?\");\n",
    "\n",
    "Console.WriteLine($\"User: {question}\");"
   ]
  },
  {
   "cell_type": "code",
   "execution_count": 15,
   "metadata": {
    "dotnet_interactive": {
     "language": "csharp"
    },
    "polyglot_notebook": {
     "kernelName": "csharp"
    },
    "vscode": {
     "languageId": "polyglot-notebook"
    }
   },
   "outputs": [
    {
     "name": "stdout",
     "output_type": "stream",
     "text": [
      "1. Sadness\n",
      "2. Desperation\n",
      "3. Comfort-seeking\n",
      "4. Self-soothing\n",
      "5. Resignation\r\n"
     ]
    }
   ],
   "source": [
    "// Invoke the prompt - Get Sentiments\n",
    "var sentiments = await kernel.InvokeAsync<string>(\n",
    "    function: prompts[\"GetSentiments\"],\n",
    "    arguments: new KernelArguments()\n",
    "    {\n",
    "        { \"input\", question }\n",
    "    });\n",
    "\n",
    "Console.WriteLine(sentiments);"
   ]
  },
  {
   "cell_type": "code",
   "execution_count": 16,
   "metadata": {
    "dotnet_interactive": {
     "language": "csharp"
    },
    "polyglot_notebook": {
     "kernelName": "csharp"
    },
    "vscode": {
     "languageId": "polyglot-notebook"
    }
   },
   "outputs": [
    {
     "name": "stdout",
     "output_type": "stream",
     "text": [
      "| Sentiment       | Danceability | Valence     |\n",
      "| ----------------|--------------|-------------|\n",
      "| Sadness         | 0.20 - 0.40  | 0.10 - 0.30 |\n",
      "| Desperation     | 0.20 - 0.40  | 0.10 - 0.30 |\n",
      "| Comfort-seeking | 0.30 - 0.50  | 0.40 - 0.60 |\n",
      "| Self-soothing   | 0.30 - 0.50  | 0.40 - 0.60 |\n",
      "| Resignation     | 0.20 - 0.40  | 0.20 - 0.40 |\r\n"
     ]
    }
   ],
   "source": [
    "// Invoke the prompt - Measure Sentiments\n",
    "var measured = await kernel.InvokeAsync<string>(\n",
    "    function: prompts[\"MeasureSentiments\"],\n",
    "    arguments: new KernelArguments()\n",
    "    {\n",
    "        { \"input\", question },\n",
    "        { \"sentiments\", sentiments },\n",
    "    });\n",
    "\n",
    "Console.WriteLine(measured);"
   ]
  },
  {
   "cell_type": "code",
   "execution_count": 17,
   "metadata": {
    "dotnet_interactive": {
     "language": "csharp"
    },
    "polyglot_notebook": {
     "kernelName": "csharp"
    },
    "vscode": {
     "languageId": "polyglot-notebook"
    }
   },
   "outputs": [
    {
     "name": "stdout",
     "output_type": "stream",
     "text": [
      "```json\n",
      "{\n",
      "  \"sentiment\": \"Comfort-seeking\",\n",
      "  \"danceability\": \"0.30 - 0.50\",\n",
      "  \"valence\": \"0.40 - 0.60\"\n",
      "}\n",
      "```\r\n"
     ]
    }
   ],
   "source": [
    "// Invoke the prompt - Pick Primary Sentiment\n",
    "var sentiment = await kernel.InvokeAsync<string>(\n",
    "    function: prompts[\"PickPrimarySentiment\"],\n",
    "    arguments: new KernelArguments()\n",
    "    {\n",
    "        { \"input\", question },\n",
    "        { \"measured\", measured },\n",
    "    });\n",
    "\n",
    "Console.WriteLine(sentiment);"
   ]
  },
  {
   "cell_type": "code",
   "execution_count": 18,
   "metadata": {
    "dotnet_interactive": {
     "language": "csharp"
    },
    "polyglot_notebook": {
     "kernelName": "csharp"
    },
    "vscode": {
     "languageId": "polyglot-notebook"
    }
   },
   "outputs": [
    {
     "name": "stdout",
     "output_type": "stream",
     "text": [
      "List all the songs with valence between 0.40 and 0.60\r\n"
     ]
    }
   ],
   "source": [
    "// Invoke the prompt - RefineQuestion\n",
    "var refined = await kernel.InvokeAsync<string>(\n",
    "    function: prompts[\"RefineQuestion\"],\n",
    "    arguments: new KernelArguments()\n",
    "    {\n",
    "        { \"input\", question },\n",
    "        { \"sentiment\", sentiment }\n",
    "    });\n",
    "\n",
    "Console.WriteLine(refined);"
   ]
  },
  {
   "cell_type": "code",
   "execution_count": 20,
   "metadata": {
    "dotnet_interactive": {
     "language": "csharp"
    },
    "polyglot_notebook": {
     "kernelName": "csharp"
    },
    "vscode": {
     "languageId": "polyglot-notebook"
    }
   },
   "outputs": [
    {
     "name": "stdout",
     "output_type": "stream",
     "text": [
      "{\"songId\":null,\"rank\":79,\"rankStatus\":\"undefined\",\"rankStatusValue\":null,\"title\":\"Warmth\",\"artist\":\"Lim Young Woong\",\"album\":\"Warmth\",\"image\":\"https://i.scdn.co/image/ab67616d0000b273744791c0e707946a832baa13\",\"trackId\":\"3vnaEaDxMKdBhqA1t0uAwl\",\"trackUri\":\"spotify:track:3vnaEaDxMKdBhqA1t0uAwl\",\"danceability\":0.354,\"valence\":0.342}\r\n"
     ]
    }
   ],
   "source": [
    "// Invoke the plugin - Find songs\n",
    "var results = await kernel.InvokeAsync(\n",
    "    pluginName: nameof(SpotifyChartPlugin),\n",
    "    functionName: nameof(SpotifyChartPlugin.FindSongs), \n",
    "    arguments: new KernelArguments()\n",
    "    {\n",
    "        { \"memory\", memory }, \n",
    "        { \"question\", refined },\n",
    "        { \"jso\", jso }, \n",
    "    }\n",
    ");\n",
    "\n",
    "var data = results.GetValue<List<ChartItem>>().Select(p => JsonSerializer.Serialize(p, jso)).Aggregate((x, y) => $\"{x}\\n{y}\");\n",
    "\n",
    "Console.WriteLine(data);"
   ]
  },
  {
   "cell_type": "code",
   "execution_count": 21,
   "metadata": {
    "dotnet_interactive": {
     "language": "csharp"
    },
    "polyglot_notebook": {
     "kernelName": "csharp"
    },
    "vscode": {
     "languageId": "polyglot-notebook"
    }
   },
   "outputs": [
    {
     "name": "stdout",
     "output_type": "stream",
     "text": [
      "```json\n",
      "{\n",
      "  \"tracks\": [\n",
      "    {\n",
      "      \"title\": \"Warmth\",\n",
      "      \"artist\": \"Lim Young Woong\",\n",
      "      \"trackId\": \"3vnaEaDxMKdBhqA1t0uAwl\",\n",
      "      \"trackUri\": \"spotify:track:3vnaEaDxMKdBhqA1t0uAwl\"\n",
      "    }\n",
      "  ]\n",
      "}\n",
      "```\r\n"
     ]
    }
   ],
   "source": [
    "// Invoke the prompt - RefineResult\n",
    "var refined = await kernel.InvokeAsync<string>(\n",
    "    function: prompts[\"RefineResult\"],\n",
    "    arguments: new KernelArguments()\n",
    "    {\n",
    "        { \"input\", data }\n",
    "    });\n",
    "\n",
    "Console.WriteLine(refined);"
   ]
  }
 ],
 "metadata": {
  "kernelspec": {
   "display_name": ".NET (C#)",
   "language": "C#",
   "name": ".net-csharp"
  },
  "language_info": {
   "name": "csharp"
  },
  "polyglot_notebook": {
   "kernelInfo": {
    "defaultKernelName": "csharp",
    "items": [
     {
      "aliases": [],
      "name": "csharp"
     }
    ]
   }
  }
 },
 "nbformat": 4,
 "nbformat_minor": 2
}
