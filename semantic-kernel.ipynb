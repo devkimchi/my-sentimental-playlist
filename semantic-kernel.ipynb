{
 "cells": [
  {
   "cell_type": "code",
   "execution_count": 1,
   "metadata": {
    "dotnet_interactive": {
     "language": "csharp"
    },
    "polyglot_notebook": {
     "kernelName": "csharp"
    },
    "vscode": {
     "languageId": "polyglot-notebook"
    }
   },
   "outputs": [
    {
     "data": {
      "text/html": [
       "<div><div></div><div></div><div><strong>Installed Packages</strong><ul><li><span>MelonChart.NET, 2.0.0</span></li><li><span>Microsoft.Extensions.Configuration.Json, 8.0.0</span></li><li><span>Microsoft.SemanticKernel, 1.16.0</span></li><li><span>Microsoft.SemanticKernel.Connectors.OpenAI, 1.16.0</span></li><li><span>Microsoft.SemanticKernel.Core, 1.16.0</span></li><li><span>Microsoft.SemanticKernel.Plugins.Core, 1.16.0-alpha</span></li><li><span>Microsoft.SemanticKernel.Plugins.Memory, 1.16.0-alpha</span></li><li><span>System.Linq.Async, 6.0.1</span></li></ul></div></div>"
      ]
     },
     "metadata": {},
     "output_type": "display_data"
    }
   ],
   "source": [
    "// Nuget Packages\n",
    "#r \"nuget: MelonChart.NET, 2.*\"\n",
    "\n",
    "#r \"nuget: Microsoft.Extensions.Configuration.Json, 8.*\"\n",
    "#r \"nuget: Microsoft.SemanticKernel, 1.*\"\n",
    "#r \"nuget: Microsoft.SemanticKernel.Connectors.OpenAI, 1.*\"\n",
    "#r \"nuget: Microsoft.SemanticKernel.Core, 1.*\"\n",
    "#r \"nuget: Microsoft.SemanticKernel.Plugins.Core, 1.*-*\"\n",
    "#r \"nuget: Microsoft.SemanticKernel.Plugins.Memory, 1.*-*\"\n",
    "\n",
    "#r \"nuget: System.Linq.Async, 6.*\"\n"
   ]
  },
  {
   "cell_type": "code",
   "execution_count": 2,
   "metadata": {
    "dotnet_interactive": {
     "language": "csharp"
    },
    "polyglot_notebook": {
     "kernelName": "csharp"
    },
    "vscode": {
     "languageId": "polyglot-notebook"
    }
   },
   "outputs": [],
   "source": [
    "// Add using statements\n",
    "using System.ComponentModel;\n",
    "using System.IO;\n",
    "using System.Net.Http;\n",
    "using System.Text.Encodings.Web;\n",
    "using System.Text.Json;\n",
    "using System.Text.Json.Serialization;\n",
    "\n",
    "using MelonChart.Models;\n",
    "\n",
    "using Microsoft.Extensions.Configuration;\n",
    "using Microsoft.SemanticKernel;\n",
    "using Microsoft.SemanticKernel.Connectors.OpenAI;\n",
    "using Microsoft.SemanticKernel.Memory;\n",
    "\n",
    "using Kernel = Microsoft.SemanticKernel.Kernel;"
   ]
  },
  {
   "cell_type": "code",
   "execution_count": 3,
   "metadata": {
    "dotnet_interactive": {
     "language": "csharp"
    },
    "polyglot_notebook": {
     "kernelName": "csharp"
    },
    "vscode": {
     "languageId": "polyglot-notebook"
    }
   },
   "outputs": [],
   "source": [
    "// Azure OpenAI configurations\n",
    "var path = Path.Combine(Directory.GetCurrentDirectory(), \"appsettings.Development.json\");\n",
    "var config = new ConfigurationBuilder().AddJsonFile(path).Build();\n",
    "\n",
    "var endpoint = config[\"Azure:OpenAI:Endpoint\"];\n",
    "var apiKey = config[\"Azure:OpenAI:ApiKey\"];\n",
    "var deploymentName = config[\"Azure:OpenAI:DeploymentName\"];"
   ]
  },
  {
   "cell_type": "code",
   "execution_count": 20,
   "metadata": {
    "dotnet_interactive": {
     "language": "csharp"
    },
    "polyglot_notebook": {
     "kernelName": "csharp"
    },
    "vscode": {
     "languageId": "polyglot-notebook"
    }
   },
   "outputs": [],
   "source": [
    "// Build Semantic Kernel\n",
    "var kernel = Kernel.CreateBuilder()\n",
    "                   .AddAzureOpenAIChatCompletion(\n",
    "                       deploymentName: deploymentName,\n",
    "                       endpoint: endpoint,\n",
    "                       apiKey: apiKey)\n",
    "                   .Build();"
   ]
  },
  {
   "cell_type": "code",
   "execution_count": 21,
   "metadata": {
    "dotnet_interactive": {
     "language": "csharp"
    },
    "polyglot_notebook": {
     "kernelName": "csharp"
    },
    "vscode": {
     "languageId": "polyglot-notebook"
    }
   },
   "outputs": [],
   "source": [
    "// Import prompts\n",
    "var prompts = kernel.ImportPluginFromPromptDirectory(\"Prompts\");"
   ]
  },
  {
   "cell_type": "code",
   "execution_count": 22,
   "metadata": {
    "dotnet_interactive": {
     "language": "csharp"
    },
    "polyglot_notebook": {
     "kernelName": "csharp"
    },
    "vscode": {
     "languageId": "polyglot-notebook"
    }
   },
   "outputs": [
    {
     "name": "stdout",
     "output_type": "stream",
     "text": [
      "User: 날이 좋아서 무엇이든 좋았다\r\n"
     ]
    }
   ],
   "source": [
    "// User input\n",
    "var question = await Microsoft.DotNet.Interactive.Kernel.GetInputAsync(\"지금 무엇을 도와드릴까요?\");\n",
    "\n",
    "Console.WriteLine($\"User: {question}\");"
   ]
  },
  {
   "cell_type": "code",
   "execution_count": 23,
   "metadata": {
    "dotnet_interactive": {
     "language": "csharp"
    },
    "polyglot_notebook": {
     "kernelName": "csharp"
    },
    "vscode": {
     "languageId": "polyglot-notebook"
    }
   },
   "outputs": [
    {
     "name": "stdout",
     "output_type": "stream",
     "text": [
      "1. Contentment\n",
      "2. Serenity\n",
      "3. Optimism\n",
      "4. Gratitude\n",
      "5. Peacefulness\r\n"
     ]
    }
   ],
   "source": [
    "// Invoke the prompt - Get Sentiments\n",
    "var sentiments = await kernel.InvokeAsync<string>(\n",
    "                       function: prompts[\"GetSentiments\"],\n",
    "                       arguments: new KernelArguments()\n",
    "                       {\n",
    "                           { \"input\", question }\n",
    "                       });\n",
    "\n",
    "Console.WriteLine(sentiments);"
   ]
  },
  {
   "cell_type": "code",
   "execution_count": 24,
   "metadata": {
    "vscode": {
     "languageId": "polyglot-notebook"
    }
   },
   "outputs": [
    {
     "name": "stdout",
     "output_type": "stream",
     "text": [
      "| Sentiment    | Danceability | Valence     |\n",
      "| -------------|--------------|-------------|\n",
      "| Contentment  | 0.50 - 0.70  | 0.60 - 0.80 |\n",
      "| Serenity     | 0.40 - 0.60  | 0.60 - 0.80 |\n",
      "| Optimism     | 0.60 - 0.80  | 0.70 - 0.90 |\n",
      "| Gratitude    | 0.50 - 0.70  | 0.70 - 0.90 |\n",
      "| Peacefulness | 0.40 - 0.60  | 0.60 - 0.80 |\r\n"
     ]
    }
   ],
   "source": [
    "// Invoke the prompt - Measure Sentiments\n",
    "var measured = await kernel.InvokeAsync<string>(\n",
    "                     function: prompts[\"MeasureSentiments\"],\n",
    "                     arguments: new KernelArguments()\n",
    "                     {\n",
    "                         { \"input\", question },\n",
    "                         { \"sentiments\", sentiments },\n",
    "                     });\n",
    "\n",
    "Console.WriteLine(measured);"
   ]
  },
  {
   "cell_type": "code",
   "execution_count": 25,
   "metadata": {
    "vscode": {
     "languageId": "polyglot-notebook"
    }
   },
   "outputs": [
    {
     "name": "stdout",
     "output_type": "stream",
     "text": [
      "```json\n",
      "{\n",
      "  \"sentiment\": \"Contentment\",\n",
      "  \"danceability\": \"0.50 - 0.70\",\n",
      "  \"valence\": \"0.60 - 0.80\"\n",
      "}\n",
      "```\r\n"
     ]
    }
   ],
   "source": [
    "// Invoke the prompt - Pick Primary Sentiment\n",
    "var sentiment = await kernel.InvokeAsync<string>(\n",
    "                     function: prompts[\"PickPrimarySentiment\"],\n",
    "                     arguments: new KernelArguments()\n",
    "                     {\n",
    "                         { \"input\", question },\n",
    "                         { \"measured\", measured },\n",
    "                     });\n",
    "\n",
    "Console.WriteLine(sentiment);"
   ]
  }
 ],
 "metadata": {
  "kernelspec": {
   "display_name": ".NET (C#)",
   "language": "C#",
   "name": ".net-csharp"
  },
  "language_info": {
   "name": "csharp"
  },
  "polyglot_notebook": {
   "kernelInfo": {
    "defaultKernelName": "csharp",
    "items": [
     {
      "aliases": [],
      "name": "csharp"
     }
    ]
   }
  }
 },
 "nbformat": 4,
 "nbformat_minor": 2
}
