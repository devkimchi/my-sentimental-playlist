{
 "cells": [
  {
   "cell_type": "code",
   "execution_count": null,
   "metadata": {
    "dotnet_interactive": {
     "language": "csharp"
    },
    "polyglot_notebook": {
     "kernelName": "csharp"
    },
    "vscode": {
     "languageId": "polyglot-notebook"
    }
   },
   "outputs": [],
   "source": [
    "// Nuget Packages\n",
    "#r \"nuget: Microsoft.Extensions.Configuration.Json, 8.*\"\n",
    "\n",
    "#r \"nuget: Microsoft.SemanticKernel, 1.*\"\n",
    "#r \"nuget: Microsoft.SemanticKernel.Planners.Handlebars, 1.*-*\"\n",
    "#r \"nuget: Microsoft.SemanticKernel.Plugins.Core, 1.*-*\""
   ]
  },
  {
   "cell_type": "code",
   "execution_count": null,
   "metadata": {
    "dotnet_interactive": {
     "language": "csharp"
    },
    "polyglot_notebook": {
     "kernelName": "csharp"
    },
    "vscode": {
     "languageId": "polyglot-notebook"
    }
   },
   "outputs": [],
   "source": [
    "// Add using statements\n",
    "using System.ComponentModel;\n",
    "using System.IO;\n",
    "using System.Text.Json;\n",
    "using System.Text.Json.Nodes;\n",
    "\n",
    "using Microsoft.Extensions.Configuration;\n",
    "\n",
    "using Microsoft.SemanticKernel;\n",
    "using Microsoft.SemanticKernel.ChatCompletion;\n",
    "using Microsoft.SemanticKernel.Connectors.OpenAI;\n",
    "using Microsoft.SemanticKernel.Planning.Handlebars;\n",
    "using Microsoft.SemanticKernel.Plugins.Core;\n"
   ]
  },
  {
   "cell_type": "code",
   "execution_count": null,
   "metadata": {
    "dotnet_interactive": {
     "language": "csharp"
    },
    "polyglot_notebook": {
     "kernelName": "csharp"
    },
    "vscode": {
     "languageId": "polyglot-notebook"
    }
   },
   "outputs": [],
   "source": [
    "// Azure OpenAI configurations\n",
    "var path = Path.Combine(Directory.GetCurrentDirectory(), \"appsettings.Development.json\");\n",
    "var config = new ConfigurationBuilder().AddJsonFile(path).Build();\n",
    "\n",
    "var endpoint = config[\"Azure:OpenAI:Endpoint\"];\n",
    "var apiKey = config[\"Azure:OpenAI:ApiKey\"];\n",
    "var deploymentName = config[\"Azure:OpenAI:DeploymentName\"];"
   ]
  },
  {
   "cell_type": "code",
   "execution_count": null,
   "metadata": {
    "dotnet_interactive": {
     "language": "csharp"
    },
    "polyglot_notebook": {
     "kernelName": "csharp"
    },
    "vscode": {
     "languageId": "polyglot-notebook"
    }
   },
   "outputs": [],
   "source": [
    "// Build Semantic Kernel\n",
    "var kernel = Kernel.CreateBuilder()\n",
    "                   .AddAzureOpenAIChatCompletion(\n",
    "                       deploymentName: deploymentName,\n",
    "                       endpoint: endpoint,\n",
    "                       apiKey: apiKey)\n",
    "                   .Build();"
   ]
  },
  {
   "cell_type": "code",
   "execution_count": null,
   "metadata": {
    "dotnet_interactive": {
     "language": "csharp"
    },
    "polyglot_notebook": {
     "kernelName": "csharp"
    },
    "vscode": {
     "languageId": "polyglot-notebook"
    }
   },
   "outputs": [],
   "source": [
    "// Plugin: Music Library\n",
    "public class MusicLibraryPlugin\n",
    "{\n",
    "    [KernelFunction, Description(\"Get a list of music recently played by the user\")]\n",
    "    public static string GetRecentPlays()\n",
    "    {\n",
    "        string content = File.ReadAllText(\"data/recentlyplayed.json\");\n",
    "        return content;\n",
    "    }\n",
    "\n",
    "    [KernelFunction, Description(\"Add a song to the recently played list\")]\n",
    "    public static string AddToRecentlyPlayed(\n",
    "        [Description(\"The name of the artist\")] string artist, \n",
    "        [Description(\"The title of the song\")] string song, \n",
    "        [Description(\"The song genre\")] string genre)\n",
    "    {\n",
    "        // Read the existing content from the file\n",
    "        string jsonContent = File.ReadAllText(\"data/recentlyplayed.json\");\n",
    "        var recentlyPlayed = (JsonArray) JsonNode.Parse(jsonContent);\n",
    "\n",
    "        var newSong = new JsonObject\n",
    "        {\n",
    "            [\"title\"] = song,\n",
    "            [\"artist\"] = artist,\n",
    "            [\"genre\"] = genre\n",
    "        };\n",
    "\n",
    "        recentlyPlayed.Insert(0, newSong);\n",
    "        File.WriteAllText(\"data/recentlyplayed.json\",\n",
    "            JsonSerializer.Serialize(\n",
    "                recentlyPlayed,\n",
    "                new JsonSerializerOptions { WriteIndented = true }));\n",
    "\n",
    "        return $\"Added '{song}' to recently played\";\n",
    "    }\n",
    "}"
   ]
  },
  {
   "cell_type": "code",
   "execution_count": null,
   "metadata": {
    "dotnet_interactive": {
     "language": "csharp"
    },
    "polyglot_notebook": {
     "kernelName": "csharp"
    },
    "vscode": {
     "languageId": "polyglot-notebook"
    }
   },
   "outputs": [],
   "source": [
    "// Plugin: Music Concert\n",
    "public class MusicConcertPlugin\n",
    "{\n",
    "    [KernelFunction, Description(\"Get a list of upcoming concerts\")]\n",
    "    public static string GetTours()\n",
    "    {\n",
    "        string content = File.ReadAllText(\"data/concertdates.json\");\n",
    "        return content;\n",
    "    }\n",
    "}"
   ]
  },
  {
   "cell_type": "code",
   "execution_count": null,
   "metadata": {
    "dotnet_interactive": {
     "language": "csharp"
    },
    "polyglot_notebook": {
     "kernelName": "csharp"
    },
    "vscode": {
     "languageId": "polyglot-notebook"
    }
   },
   "outputs": [],
   "source": [
    "// Import plugins and prompts\n",
    "kernel.ImportPluginFromType<MusicLibraryPlugin>();\n",
    "kernel.ImportPluginFromType<MusicConcertPlugin>();\n",
    "kernel.ImportPluginFromPromptDirectory(\"Prompts/Concert\");"
   ]
  },
  {
   "cell_type": "code",
   "execution_count": null,
   "metadata": {
    "dotnet_interactive": {
     "language": "csharp"
    },
    "polyglot_notebook": {
     "kernelName": "csharp"
    },
    "vscode": {
     "languageId": "polyglot-notebook"
    }
   },
   "outputs": [],
   "source": [
    "// Define the goal\n",
    "string location = \"San Francisco, CA, USA\";\n",
    "string goal = @$\"\"\"\n",
    "    Based on the user's recently played music, suggest a concert for the user living in ${location}\n",
    "\"\"\";"
   ]
  },
  {
   "cell_type": "code",
   "execution_count": null,
   "metadata": {
    "dotnet_interactive": {
     "language": "csharp"
    },
    "polyglot_notebook": {
     "kernelName": "csharp"
    },
    "vscode": {
     "languageId": "polyglot-notebook"
    }
   },
   "outputs": [],
   "source": [
    "// Initialise planner\n",
    "#pragma warning disable SKEXP0060\n",
    "var planner = new HandlebarsPlanner(new HandlebarsPlannerOptions() { AllowLoops = true });\n",
    "#pragma warning restore SKEXP0060\n"
   ]
  },
  {
   "cell_type": "code",
   "execution_count": null,
   "metadata": {
    "dotnet_interactive": {
     "language": "csharp"
    },
    "polyglot_notebook": {
     "kernelName": "csharp"
    },
    "vscode": {
     "languageId": "polyglot-notebook"
    }
   },
   "outputs": [],
   "source": [
    "// Run the planner and get the result\n",
    "#pragma warning disable SKEXP0060\n",
    "var plan = await planner.CreatePlanAsync(kernel, goal);\n",
    "#pragma warning restore SKEXP0060\n",
    "\n",
    "#pragma warning disable SKEXP0060\n",
    "var result = await plan.InvokeAsync(kernel);\n",
    "#pragma warning restore SKEXP0060\n",
    "\n",
    "Console.WriteLine($\"Results: {result}\");"
   ]
  },
  {
   "cell_type": "code",
   "execution_count": null,
   "metadata": {
    "dotnet_interactive": {
     "language": "csharp"
    },
    "polyglot_notebook": {
     "kernelName": "csharp"
    },
    "vscode": {
     "languageId": "polyglot-notebook"
    }
   },
   "outputs": [],
   "source": [
    "// Get plan\n",
    "#pragma warning disable SKEXP0060\n",
    "var plan = await planner.CreatePlanAsync(kernel, goal);\n",
    "#pragma warning restore SKEXP0060\n",
    "\n",
    "Console.WriteLine(\"Concert Plan:\");\n",
    "Console.WriteLine(plan);\n"
   ]
  },
  {
   "cell_type": "code",
   "execution_count": null,
   "metadata": {
    "dotnet_interactive": {
     "language": "csharp"
    },
    "polyglot_notebook": {
     "kernelName": "csharp"
    },
    "vscode": {
     "languageId": "polyglot-notebook"
    }
   },
   "outputs": [],
   "source": [
    "// Create another function\n",
    "var songSuggesterFunction = kernel.CreateFunctionFromPrompt(\n",
    "    promptTemplate: @\"Based on the user's recently played music:\n",
    "        {{$recentlyPlayedSongs}}\n",
    "        recommend a song to the user from the music library:\n",
    "        {{$musicLibrary}}\",\n",
    "    functionName: \"SuggestSong\",\n",
    "    description: \"Suggest a song to the user\"\n",
    ");"
   ]
  },
  {
   "cell_type": "code",
   "execution_count": null,
   "metadata": {
    "dotnet_interactive": {
     "language": "csharp"
    },
    "polyglot_notebook": {
     "kernelName": "csharp"
    },
    "vscode": {
     "languageId": "polyglot-notebook"
    }
   },
   "outputs": [],
   "source": [
    "// Add function\n",
    "kernel.Plugins.AddFromFunctions(\"SuggestSongPlugin\", [songSuggesterFunction]);"
   ]
  },
  {
   "cell_type": "code",
   "execution_count": null,
   "metadata": {
    "dotnet_interactive": {
     "language": "csharp"
    },
    "polyglot_notebook": {
     "kernelName": "csharp"
    },
    "vscode": {
     "languageId": "polyglot-notebook"
    }
   },
   "outputs": [],
   "source": [
    "// Create another plan\n",
    "#pragma warning disable SKEXP0060\n",
    "var songSuggestPlan = await planner.CreatePlanAsync(kernel, @\"Suggest a song from the music library to the user based on their recently played songs\");\n",
    "#pragma warning restore SKEXP0060\n",
    "\n",
    "Console.WriteLine(\"Song Plan:\");\n",
    "Console.WriteLine(songSuggestPlan);"
   ]
  },
  {
   "cell_type": "code",
   "execution_count": null,
   "metadata": {
    "dotnet_interactive": {
     "language": "csharp"
    },
    "polyglot_notebook": {
     "kernelName": "csharp"
    },
    "vscode": {
     "languageId": "polyglot-notebook"
    }
   },
   "outputs": [],
   "source": [
    "// Add prompt execution settings for auto invocation\n",
    "OpenAIPromptExecutionSettings settings = new()\n",
    "{\n",
    "    ToolCallBehavior = ToolCallBehavior.AutoInvokeKernelFunctions\n",
    "};"
   ]
  },
  {
   "cell_type": "code",
   "execution_count": null,
   "metadata": {
    "dotnet_interactive": {
     "language": "csharp"
    },
    "polyglot_notebook": {
     "kernelName": "csharp"
    },
    "vscode": {
     "languageId": "polyglot-notebook"
    }
   },
   "outputs": [],
   "source": [
    "// New prompt\n",
    "string prompt = \"\"\"\n",
    "    I live in Portland OR USA.\n",
    "    Based on my recently played songs and a list of upcoming concerts,\n",
    "    which concert do you recommend?\n",
    "\"\"\";"
   ]
  },
  {
   "cell_type": "code",
   "execution_count": null,
   "metadata": {
    "dotnet_interactive": {
     "language": "csharp"
    },
    "polyglot_notebook": {
     "kernelName": "csharp"
    },
    "vscode": {
     "languageId": "polyglot-notebook"
    }
   },
   "outputs": [],
   "source": [
    "// Get the result from the auto invocation\n",
    "var result = await kernel.InvokePromptAsync(prompt, new KernelArguments(settings));\n",
    "\n",
    "Console.WriteLine(result);"
   ]
  }
 ],
 "metadata": {
  "kernelspec": {
   "display_name": ".NET (C#)",
   "language": "C#",
   "name": ".net-csharp"
  },
  "language_info": {
   "name": "csharp"
  },
  "polyglot_notebook": {
   "kernelInfo": {
    "defaultKernelName": "csharp",
    "items": [
     {
      "aliases": [],
      "name": "csharp"
     }
    ]
   }
  }
 },
 "nbformat": 4,
 "nbformat_minor": 2
}
