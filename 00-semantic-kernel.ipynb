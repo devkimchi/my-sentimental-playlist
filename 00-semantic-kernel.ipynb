{
 "cells": [
  {
   "cell_type": "code",
   "execution_count": null,
   "metadata": {
    "dotnet_interactive": {
     "language": "csharp"
    },
    "polyglot_notebook": {
     "kernelName": "csharp"
    },
    "vscode": {
     "languageId": "polyglot-notebook"
    }
   },
   "outputs": [],
   "source": [
    "// Nuget Packages\n",
    "#r \"nuget: MelonChart.NET, 2.*\"\n",
    "\n",
    "#r \"nuget: Microsoft.Extensions.Configuration.Json, 8.*\"\n",
    "#r \"nuget: Microsoft.SemanticKernel, 1.*\"\n",
    "#r \"nuget: Microsoft.SemanticKernel.Connectors.OpenAI, 1.*\"\n",
    "#r \"nuget: Microsoft.SemanticKernel.Core, 1.*\"\n",
    "#r \"nuget: Microsoft.SemanticKernel.Plugins.Core, 1.*-*\"\n",
    "#r \"nuget: Microsoft.SemanticKernel.Plugins.Memory, 1.*-*\"\n",
    "\n",
    "#r \"nuget: System.Linq.Async, 6.*\"\n"
   ]
  },
  {
   "cell_type": "code",
   "execution_count": null,
   "metadata": {
    "dotnet_interactive": {
     "language": "csharp"
    },
    "polyglot_notebook": {
     "kernelName": "csharp"
    },
    "vscode": {
     "languageId": "polyglot-notebook"
    }
   },
   "outputs": [],
   "source": [
    "// Add using statements\n",
    "using System.ComponentModel;\n",
    "using System.IO;\n",
    "using System.Net.Http;\n",
    "using System.Text.Encodings.Web;\n",
    "using System.Text.Json;\n",
    "using System.Text.Json.Serialization;\n",
    "\n",
    "using MelonChart.Models;\n",
    "\n",
    "using Microsoft.Extensions.Configuration;\n",
    "using Microsoft.SemanticKernel;\n",
    "using Microsoft.SemanticKernel.Connectors.OpenAI;\n",
    "using Microsoft.SemanticKernel.Memory;\n",
    "\n",
    "using Kernel = Microsoft.SemanticKernel.Kernel;"
   ]
  },
  {
   "cell_type": "code",
   "execution_count": null,
   "metadata": {
    "dotnet_interactive": {
     "language": "csharp"
    },
    "polyglot_notebook": {
     "kernelName": "csharp"
    },
    "vscode": {
     "languageId": "polyglot-notebook"
    }
   },
   "outputs": [],
   "source": [
    "// Azure OpenAI configurations\n",
    "var path = Path.Combine(Directory.GetCurrentDirectory(), \"appsettings.Development.json\");\n",
    "var config = new ConfigurationBuilder().AddJsonFile(path).Build();\n",
    "\n",
    "var endpoint = config[\"Azure:OpenAI:Endpoint\"];\n",
    "var apiKey = config[\"Azure:OpenAI:ApiKey\"];\n",
    "var deploymentName = config[\"Azure:OpenAI:DeploymentName\"];"
   ]
  },
  {
   "cell_type": "code",
   "execution_count": null,
   "metadata": {
    "dotnet_interactive": {
     "language": "csharp"
    },
    "polyglot_notebook": {
     "kernelName": "csharp"
    },
    "vscode": {
     "languageId": "polyglot-notebook"
    }
   },
   "outputs": [],
   "source": [
    "// Build Semantic Kernel\n",
    "var kernel = Kernel.CreateBuilder()\n",
    "                   .AddAzureOpenAIChatCompletion(\n",
    "                       deploymentName: deploymentName,\n",
    "                       endpoint: endpoint,\n",
    "                       apiKey: apiKey)\n",
    "                   .Build();"
   ]
  },
  {
   "cell_type": "code",
   "execution_count": null,
   "metadata": {
    "dotnet_interactive": {
     "language": "csharp"
    },
    "polyglot_notebook": {
     "kernelName": "csharp"
    },
    "vscode": {
     "languageId": "polyglot-notebook"
    }
   },
   "outputs": [],
   "source": [
    "// Import prompts\n",
    "var prompts = kernel.ImportPluginFromPromptDirectory(\"Prompts\");"
   ]
  },
  {
   "cell_type": "code",
   "execution_count": null,
   "metadata": {
    "dotnet_interactive": {
     "language": "csharp"
    },
    "polyglot_notebook": {
     "kernelName": "csharp"
    },
    "vscode": {
     "languageId": "polyglot-notebook"
    }
   },
   "outputs": [],
   "source": [
    "// Import codes\n",
    "#!import Plugins/MelonChartMemory/MelonChartPlugin.cs"
   ]
  },
  {
   "cell_type": "code",
   "execution_count": null,
   "metadata": {
    "dotnet_interactive": {
     "language": "csharp"
    },
    "polyglot_notebook": {
     "kernelName": "csharp"
    },
    "vscode": {
     "languageId": "polyglot-notebook"
    }
   },
   "outputs": [],
   "source": [
    "// Import plugins\n",
    "kernel.ImportPluginFromType<MelonChartPlugin>();"
   ]
  },
  {
   "cell_type": "code",
   "execution_count": null,
   "metadata": {
    "dotnet_interactive": {
     "language": "csharp"
    },
    "polyglot_notebook": {
     "kernelName": "csharp"
    },
    "vscode": {
     "languageId": "polyglot-notebook"
    }
   },
   "outputs": [],
   "source": [
    "// Build Semantic Memory\n",
    "#pragma warning disable SKEXP0001\n",
    "#pragma warning disable SKEXP0010\n",
    "#pragma warning disable SKEXP0050\n",
    "\n",
    "var memory = new MemoryBuilder()\n",
    "                 .WithAzureOpenAITextEmbeddingGeneration(\n",
    "                     deploymentName: \"model-textembeddingada002-2\",\n",
    "                     endpoint: endpoint,\n",
    "                     apiKey: apiKey)\n",
    "                 .WithMemoryStore(new VolatileMemoryStore())\n",
    "                 .Build();"
   ]
  },
  {
   "cell_type": "code",
   "execution_count": null,
   "metadata": {
    "dotnet_interactive": {
     "language": "csharp"
    },
    "polyglot_notebook": {
     "kernelName": "csharp"
    },
    "vscode": {
     "languageId": "polyglot-notebook"
    }
   },
   "outputs": [],
   "source": [
    "// Add HttpClient instance.\n",
    "var http = new HttpClient()\n",
    "{\n",
    "    Timeout = TimeSpan.FromSeconds(240)\n",
    "};"
   ]
  },
  {
   "cell_type": "code",
   "execution_count": null,
   "metadata": {
    "dotnet_interactive": {
     "language": "csharp"
    },
    "polyglot_notebook": {
     "kernelName": "csharp"
    },
    "vscode": {
     "languageId": "polyglot-notebook"
    }
   },
   "outputs": [],
   "source": [
    "// Add JsonSerializerOptions instance.\n",
    "var jso = new JsonSerializerOptions()\n",
    "{\n",
    "    WriteIndented = false,\n",
    "    PropertyNamingPolicy = JsonNamingPolicy.CamelCase,\n",
    "    Encoder = JavaScriptEncoder.UnsafeRelaxedJsonEscaping,\n",
    "    Converters = { new JsonStringEnumConverter(JsonNamingPolicy.CamelCase) },\n",
    "};"
   ]
  },
  {
   "cell_type": "code",
   "execution_count": null,
   "metadata": {
    "dotnet_interactive": {
     "language": "csharp"
    },
    "polyglot_notebook": {
     "kernelName": "csharp"
    },
    "vscode": {
     "languageId": "polyglot-notebook"
    }
   },
   "outputs": [],
   "source": [
    "// Invoke the plugin - Add Melon Chart data\n",
    "await kernel.InvokeAsync(\n",
    "    pluginName: nameof(MelonChartPlugin),\n",
    "    functionName: nameof(MelonChartPlugin.AddMelonChart), \n",
    "    arguments: new KernelArguments()\n",
    "    {\n",
    "        { \"memory\", memory }, \n",
    "        { \"http\", http },\n",
    "        { \"jso\", jso }, \n",
    "    }\n",
    ");"
   ]
  },
  {
   "cell_type": "code",
   "execution_count": null,
   "metadata": {
    "dotnet_interactive": {
     "language": "csharp"
    },
    "polyglot_notebook": {
     "kernelName": "csharp"
    },
    "vscode": {
     "languageId": "polyglot-notebook"
    }
   },
   "outputs": [],
   "source": [
    "// Invoke the plugin - Add Spotify Chart data\n",
    "await kernel.InvokeAsync(\n",
    "    pluginName: nameof(MelonChartPlugin),\n",
    "    functionName: nameof(MelonChartPlugin.AddSpotifyChart), \n",
    "    arguments: new KernelArguments()\n",
    "    {\n",
    "        { \"memory\", memory }, \n",
    "        { \"http\", http },\n",
    "        { \"jso\", jso }, \n",
    "    }\n",
    ");"
   ]
  },
  {
   "cell_type": "code",
   "execution_count": null,
   "metadata": {
    "dotnet_interactive": {
     "language": "csharp"
    },
    "polyglot_notebook": {
     "kernelName": "csharp"
    },
    "vscode": {
     "languageId": "polyglot-notebook"
    }
   },
   "outputs": [],
   "source": [
    "// User input\n",
    "var question = await Microsoft.DotNet.Interactive.Kernel.GetInputAsync(\"지금 무슨 생각을 하고 계세요?\");\n",
    "\n",
    "Console.WriteLine($\"User: {question}\");"
   ]
  },
  {
   "cell_type": "code",
   "execution_count": null,
   "metadata": {
    "dotnet_interactive": {
     "language": "csharp"
    },
    "polyglot_notebook": {
     "kernelName": "csharp"
    },
    "vscode": {
     "languageId": "polyglot-notebook"
    }
   },
   "outputs": [],
   "source": [
    "// Invoke the prompt - Get Sentiments\n",
    "var sentiments = await kernel.InvokeAsync<string>(\n",
    "                       function: prompts[\"GetSentiments\"],\n",
    "                       arguments: new KernelArguments()\n",
    "                       {\n",
    "                           { \"input\", question }\n",
    "                       });\n",
    "\n",
    "Console.WriteLine(sentiments);"
   ]
  },
  {
   "cell_type": "code",
   "execution_count": null,
   "metadata": {
    "dotnet_interactive": {
     "language": "csharp"
    },
    "polyglot_notebook": {
     "kernelName": "csharp"
    },
    "vscode": {
     "languageId": "polyglot-notebook"
    }
   },
   "outputs": [],
   "source": [
    "// Invoke the prompt - Measure Sentiments\n",
    "var measured = await kernel.InvokeAsync<string>(\n",
    "                     function: prompts[\"MeasureSentiments\"],\n",
    "                     arguments: new KernelArguments()\n",
    "                     {\n",
    "                         { \"input\", question },\n",
    "                         { \"sentiments\", sentiments },\n",
    "                     });\n",
    "\n",
    "Console.WriteLine(measured);"
   ]
  },
  {
   "cell_type": "code",
   "execution_count": null,
   "metadata": {
    "dotnet_interactive": {
     "language": "csharp"
    },
    "polyglot_notebook": {
     "kernelName": "csharp"
    },
    "vscode": {
     "languageId": "polyglot-notebook"
    }
   },
   "outputs": [],
   "source": [
    "// Invoke the prompt - Pick Primary Sentiment\n",
    "var sentiment = await kernel.InvokeAsync<string>(\n",
    "                     function: prompts[\"PickPrimarySentiment\"],\n",
    "                     arguments: new KernelArguments()\n",
    "                     {\n",
    "                         { \"input\", question },\n",
    "                         { \"measured\", measured },\n",
    "                     });\n",
    "\n",
    "Console.WriteLine(sentiment);"
   ]
  },
  {
   "cell_type": "code",
   "execution_count": null,
   "metadata": {
    "dotnet_interactive": {
     "language": "csharp"
    },
    "polyglot_notebook": {
     "kernelName": "csharp"
    },
    "vscode": {
     "languageId": "polyglot-notebook"
    }
   },
   "outputs": [],
   "source": [
    "// Invoke the plugin - Find songs\n",
    "var results = await kernel.InvokeAsync(\n",
    "    pluginName: nameof(MelonChartPlugin),\n",
    "    functionName: nameof(MelonChartPlugin.FindSongs), \n",
    "    arguments: new KernelArguments()\n",
    "    {\n",
    "        { \"memory\", memory }, \n",
    "        { \"question\", refined },\n",
    "        { \"jso\", jso }, \n",
    "    }\n",
    ");\n",
    "\n",
    "var data = results.GetValue<List<ChartItem>>().Select(p => JsonSerializer.Serialize(p, jso)).Aggregate((x, y) => $\"{x}\\n{y}\");\n",
    "\n",
    "Console.WriteLine(data);"
   ]
  }
 ],
 "metadata": {
  "kernelspec": {
   "display_name": ".NET (C#)",
   "language": "C#",
   "name": ".net-csharp"
  },
  "language_info": {
   "name": "csharp"
  },
  "polyglot_notebook": {
   "kernelInfo": {
    "defaultKernelName": "csharp",
    "items": [
     {
      "aliases": [],
      "name": "csharp"
     }
    ]
   }
  }
 },
 "nbformat": 4,
 "nbformat_minor": 2
}
